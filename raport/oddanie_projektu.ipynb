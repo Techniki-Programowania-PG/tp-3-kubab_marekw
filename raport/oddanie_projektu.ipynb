from pathlib import Path
import json

# Ścieżka do nowego pliku .ipynb
notebook_path = Path("/mnt/data/projekt3_signalgen_full.ipynb")

# Zawartość notebooka z dodatkowymi sekcjami
notebook = {
 "cells": [
  {
   "cell_type": "markdown",
   "metadata": {},
   "source": [
    "# TECHNIKI PROGRAMOWANIA - Projekt 3\n",
    "### Jakub Bukowski 203628\n",
    "### Marek Witkowski 203930\n",
    "\n",
    "W projekcie zbudowaliśmy bibliotekę `.pyd` w języku C++ z interfejsem Pythonowym przy użyciu `pybind11` i `matplotplusplus`."
   ]
  },
  {
   "cell_type": "markdown",
   "metadata": {},
   "source": [
    "# Wizualizacja wykresów 1D\n",
    "Przykład obrazujący funkcję sinusoidalną."
   ]
  },
  {
   "cell_type": "code",
   "execution_count": 1,
   "metadata": {},
   "outputs": [],
   "source": [
    "import signalgen as sg\n",
    "x = sg.sine(10, 100, 1000)\n",
    "sg.plot1d(x, \"Sinus 10Hz\")"
   ]
  },
  {
   "cell_type": "markdown",
   "metadata": {},
   "source": [
    "![sinus](sinus.png)"
   ]
  },
  {
   "cell_type": "markdown",
   "metadata": {},
   "source": [
    "# Wykres piłokształtny"
   ]
  },
  {
   "cell_type": "code",
   "execution_count": 2,
   "metadata": {},
   "outputs": [],
   "source": [
    "x = sg.saw(2, 100, 1000)\n",
    "sg.plot1d(x, \"Fala piłokształtna\")"
   ]
  },
  {
   "cell_type": "markdown",
   "metadata": {},
   "source": [
    "![sawtooth](sawtooth.png)"
   ]
  },
  {
   "cell_type": "markdown",
   "metadata": {},
   "source": [
    "# Wykres funkcji kwadratowej"
   ]
  },
  {
   "cell_type": "code",
   "execution_count": 3,
   "metadata": {},
   "outputs": [],
   "source": [
    "x = [i**2 for i in range(-50, 51)]\n",
    "sg.plot1d(x, \"Funkcja kwadratowa\")"
   ]
  },
  {
   "cell_type": "markdown",
   "metadata": {},
   "source": [
    "![kwadratowa](kwadratowa.png)"
   ]
  },
  {
   "cell_type": "markdown",
   "metadata": {},
   "source": [
    "# Zaszumienie sygnału"
   ]
  },
  {
   "cell_type": "code",
   "execution_count": 4,
   "metadata": {},
   "outputs": [],
   "source": [
    "x_clean = sg.sine(5, 100, 256)\n",
    "x_noisy = sg.noise(x_clean, 0.3)\n",
    "sg.plot1d(x_clean, \"Sygnał czysty\")\n",
    "sg.plot1d(x_noisy, \"Sygnał zaszumiony\")"
   ]
  },
  {
   "cell_type": "markdown",
   "metadata": {},
   "source": [
    "![czysty](czysty.png)\n",
    "![zaszumiony](zaszumiony.png)"
   ]
  },
  {
   "cell_type": "markdown",
   "metadata": {},
   "source": [
    "# Filtracja 1D"
   ]
  },
  {
   "cell_type": "code",
   "execution_count": 5,
   "metadata": {},
   "outputs": [],
   "source": [
    "kernel = [0.25, 0.5, 0.25]\n",
    "x_filt = sg.filt1d(x_noisy, kernel)\n",
    "sg.plot1d(x_filt, \"Po filtracji 1D\")"
   ]
  },
  {
   "cell_type": "markdown",
   "metadata": {},
   "source": [
    "![filtr](filtr.png)"
   ]
  },
  {
   "cell_type": "markdown",
   "metadata": {},
   "source": [
    "# DFT i IDFT"
   ]
  },
  {
   "cell_type": "code",
   "execution_count": 6,
   "metadata": {},
   "outputs": [],
   "source": [
    "X = sg.dft(x_clean)\n",
    "x_rec = sg.idft(X)\n",
    "sg.plot1d(x_clean, \"Oryginalny sygnał\")\n",
    "sg.plot1d(x_rec, \"Odtworzony z IDFT\")"
   ]
  },
  {
   "cell_type": "markdown",
   "metadata": {},
   "source": [
    "![oryginalny](oryginalny.png)\n",
    "![idft](idft.png)"
   ]
  },
  {
   "cell_type": "markdown",
   "metadata": {},
   "source": [
    "# Widmo amplitudowe DFT"
   ]
  },
  {
   "cell_type": "code",
   "execution_count": 7,
   "metadata": {},
   "outputs": [],
   "source": [
    "amplitude = [(v[0]**2 + v[1]**2)**0.5 for v in X]\n",
    "sg.plot1d(amplitude, \"Widmo DFT\")"
   ]
  },
  {
   "cell_type": "markdown",
   "metadata": {},
   "source": [
    "![widmo](widmo.png)"
   ]
  }
 ],
 "metadata": {
  "kernelspec": {
   "display_name": "Python 3",
   "language": "python",
   "name": "python3"
  },
  "language_info": {
   "name": "python",
   "version": "3.11"
  }
 },
 "nbformat": 4,
 "nbformat_minor": 2
}

# Zapisz plik
notebook_path.write_text(json.dumps(notebook, indent=1))
notebook_path
