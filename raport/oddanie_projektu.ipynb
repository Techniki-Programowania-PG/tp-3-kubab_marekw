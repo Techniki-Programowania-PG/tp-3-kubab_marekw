import nbformat as nbf
from pathlib import Path

nb = nbf.v4.new_notebook()
nb["cells"] = [
    nbf.v4.new_markdown_cell(
        "# TECHNIKI PROGRAMOWANIA - Projekt 3\n"
        "### Jakub Bukowski 203628\n"
        "### Marek Witkowski 203930\n\n"
        "W projekcie zbudowaliśmy bibliotekę `.pyd` w języku C++ z interfejsem Pythonowym przy użyciu `pybind11` i `matplotplusplus`."
    ),
    nbf.v4.new_markdown_cell("## Wizualizacja wykresów 1D"),
    nbf.v4.new_code_cell("import signalgen as sg\nx = sg.sine(10, 100, 1000)\nsg.plot1d(x, \"Sinus 10Hz\")"),
    nbf.v4.new_markdown_cell("![sinus](sinus.png)"),

    nbf.v4.new_markdown_cell("## Wykres piłokształtny"),
    nbf.v4.new_code_cell("x = sg.saw(2, 100, 1000)\nsg.plot1d(x, \"Fala piłokształtna\")"),
    nbf.v4.new_markdown_cell("![sawtooth](sawtooth.png)"),

    nbf.v4.new_markdown_cell("## Wykres funkcji kwadratowej"),
    nbf.v4.new_code_cell("x = [i**2 for i in range(-50, 51)]\nsg.plot1d(x, \"Funkcja kwadratowa\")"),
    nbf.v4.new_markdown_cell("![kwadratowa](kwadratowa.png)"),

    nbf.v4.new_markdown_cell("## Zaszumienie sygnału"),
    nbf.v4.new_code_cell(
        "x_clean = sg.sine(5, 100, 256)\n"
        "x_noisy = sg.noise(x_clean, 0.3)\n"
        "sg.plot1d(x_clean, \"Sygnał czysty\")\n"
        "sg.plot1d(x_noisy, \"Sygnał zaszumiony\")"
    ),
    nbf.v4.new_markdown_cell("![czysty](czysty.png)\n![zaszumiony](zaszumiony.png)"),

    nbf.v4.new_markdown_cell("## Filtracja 1D"),
    nbf.v4.new_code_cell(
        "kernel = [0.25, 0.5, 0.25]\n"
        "x_filt = sg.filt1d(x_noisy, kernel)\n"
        "sg.plot1d(x_filt, \"Po filtracji 1D\")"
    ),
    nbf.v4.new_markdown_cell("![filtr](filtr.png)"),

    nbf.v4.new_markdown_cell("## DFT i IDFT"),
    nbf.v4.new_code_cell(
        "X = sg.dft(x_clean)\n"
        "x_rec = sg.idft(X)\n"
        "sg.plot1d(x_clean, \"Oryginalny sygnał\")\n"
        "sg.plot1d(x_rec, \"Odtworzony z IDFT\")"
    ),
    nbf.v4.new_markdown_cell("![oryginalny](oryginalny.png)\n![idft](idft.png)"),

    nbf.v4.new_markdown_cell("## Widmo amplitudowe DFT"),
    nbf.v4.new_code_cell(
        "amplitude = [(v[0]**2 + v[1]**2)**0.5 for v in X]\n"
        "sg.plot1d(amplitude, \"Widmo DFT\")"
    ),
    nbf.v4.new_markdown_cell("![widmo](widmo.png)")
]

# Zapisz poprawny notebook
path = Path("/mnt/data/projekt3_signalgen_valid.ipynb")
nbf.write(nb, path)
path
