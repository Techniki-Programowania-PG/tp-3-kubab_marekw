{
 "cells": [
  {
   "cell_type": "markdown",
   "metadata": {},
   "source": [
    "# TECHNIKI PROGRAMOWANIA - projekt 3\n",
    "### Jakub Bukowski 203628\n",
    "### Marek Witkowski 203930\n",
    "\n",
    "Wykorzystane biblioteki:\n",
    "- matplotplusplus (c++)\n"
   ]
  },
  {
   "cell_type": "markdown",
   "metadata": {},
   "source": [
    "# Za co odpowiedzialne są argumenty każdej z funkcji i co zwracają \n",
    "## sine, cos, sq, saw (częstotliwość, ilość próbek na sekunde, ilość próbek) \n",
    "##dft (sygnał) \n",
    "## idft (dane z dft) \n",
    "## noise (sygnał, poziom szumu) \n",
    "## filt1d (sygnał, kernel(lista wag)) \n",
    "## filt2d (macierz, kernel(lista 2D)) \n",
    "## plot1d (sygnał, tytuł wykresu) \n",
    "## plot2d (macierz, tytuł wykresu) \n",
    "## plot_dft (sygnał, tytuł wykresu) \n"
   ]
  },
  {
   "cell_type": "markdown",
   "metadata": {},
   "source": [
    "# Wizualizacja wybranych wykresów:(sin, cos, saw, square)\n",
    "#Przykład obrazujący zaimplementowaną funkcjonalnośc rysowania wykresów:"
   ]
  },
 {
   "cell_type": "markdown",
   "metadata": {},
   "source": [
    "### wykres cos wraz z kodem wywołującym funkcje:\n",
    "\n"
   ]
  },
  {
   "cell_type": "markdown",
   "metadata": {},
   "source": [
    "![Sine plot](cos_plot.jpeg)"
   ]
  },
 {
   "cell_type": "markdown",
   "metadata": {},
   "source": [
    "### wykres sin wraz z kodem wywołującym funkcje:\n",
    "\n"
   ]
  },
  {
   "cell_type": "markdown",
   "metadata": {},
   "source": [
    "![Sine plot](wykres_sin.jpeg)"
   ]
  },
 {
   "cell_type": "markdown",
   "metadata": {},
   "source": [
    "### wykres funkcji piłowej wraz z kodem wywołującym funkcje:\n",
    "\n"
   ]
  },
  {
   "cell_type": "markdown",
   "metadata": {},
   "source": [
    "![Sine plot](wykres_pilowy.jpeg)"
   ]
  },
 {
   "cell_type": "markdown",
   "metadata": {},
   "source": [
    "### wykres funkcji kwadratowej wraz z kodem wywołującym funkcje:\n",
    "\n"
   ]
  },
  {
   "cell_type": "markdown",
   "metadata": {},
   "source": [
    "![Sine plot](wykres_square.jpeg)"
   ]
  },
  {
   "cell_type": "markdown",
   "metadata": {},
   "source": [
    "# DFT"
   ]
  },
 {
   "cell_type": "markdown",
   "metadata": {},
   "source": [
    "### wykres funkcji sin oraz dft i idft tej funkcji wraz z kodem wywołującym funkcje:\n",
    "\n"
   ]
  },
  {
   "cell_type": "markdown",
   "metadata": {},
   "source": [
    "![Sine plot](kod_dft_sin.jpeg)",
    "![Sine plot](wykres_dft_sin.jpeg)"
   ]
  },
 {
   "cell_type": "markdown",
   "metadata": {},
   "source": [
    "### wykres funkcji piłowej wraz z dft i idft oraz z kodem wywołującym funkcje:\n",
    "\n"
   ]
  },
  {
   "cell_type": "markdown",
   "metadata": {},
   "source": [
    "![Sine plot](kod_dft_saw.jpeg)",
    "![Sine plot](wykres_dft_saw.jpeg)"
   ]
  },
 {
   "cell_type": "markdown",
   "metadata": {},
   "source": [
    "### wykres funkcji powstałej z podanych punktow prze urzytkownika wraz z dft i idft oraz z kodem wywołującym funkcje:\n",
    "\n"
   ]
  },
  {
   "cell_type": "markdown",
   "metadata": {},
   "source": [
    "![Sine plot](kod_dft_reczne.jpg)",
    "![Sine plot](wykres_dft_reczne.jpg)"
   ]
  },

 {
   "cell_type": "markdown",
   "metadata": {},
   "source": [
    "#### filtracja 1D oraz zaszumianie sygnału:\n",
    "\n"
   ]
  },
{
   "cell_type": "markdown",
   "metadata": {},
   "source": [
    "### zaszumianie i filtracja 1D na przykładzie wygenerowanej funkcji sinus \n",
    "#wykresu oraz kod",
    "\n"
   ]
  },
  {
   "cell_type": "markdown",
   "metadata": {},
   "source": [
    "![Sine plot](zaszumianie_i_filtracja1d_sinus_kod.jpg)",
    "![Sine plot](zaszumianie_i_filtracja1d_sinus_wykresy.jpg)"
   ]
  },
{
   "cell_type": "markdown",
   "metadata": {},
   "source": [
    "### zaszumianie i filtracja 1D na przykładzie wybranych punktów wprowadzonych do funkcji \n",
    "#wykresu oraz kod a także macierz wynikowa zwróconej wartosci po filtracji",
    "\n"
   ]
  },
 {
   "cell_type": "markdown",
   "metadata": {},
   "source": [
    "![Sine plot](zaszumianie_i_filtracja1d_reczne_kod.jpg)",
    "![Sine plot](zaszumianie_i_filtracja1d_reczne_wykresy.jpg)",
    "![Sine plot](zaszumianie_i_filtracja1d_reczne_macierz_wyniku.jpg)"

   ]
  },

 {
   "cell_type": "markdown",
   "metadata": {},
   "source": [
    "#### filtracja 2D :\n",
    "\n"
   ]
  },


{
   "cell_type": "markdown",
   "metadata": {},
   "source": [
    "### filracja 2d kod podanej przez nas macierzy wartosci liczbowych \n",
    "#wykresu oraz kod a także macierz wynikowa zwróconej wartosci po filtracji",
    "\n"
   ]
  },


 {
   "cell_type": "markdown",
   "metadata": {},
   "source": [
    "![Sine plot](filtracja2d_kod.jpg)",
    "![Sine plot](filtracja2d_wykresy.jpg)",
    "![Sine plot](filtracja2d_macierz_wynikowa.jpg)"

   ]
  },
 {
   "cell_type": "code",
   "execution_count": null,
   "metadata": {},
   "outputs": [],
   "source": ["####Jakub Bukowski Marek Witkowski"]
  }
 ],
 "metadata": {
  "kernelspec": {
   "display_name": "phd",
   "language": "python",
   "name": "python3"
  },
  "language_info": {
   "codemirror_mode": {
    "name": "ipython",
    "version": 3
   },
   "file_extension": ".py",
   "mimetype": "text/x-python",
   "name": "python",
   "nbconvert_exporter": "python",
   "pygments_lexer": "ipython3",
   "version": "3.11.7"
  }
 },
 "nbformat": 4,
 "nbformat_minor": 2
}



